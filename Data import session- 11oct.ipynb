{
 "cells": [
  {
   "cell_type": "code",
   "execution_count": 1,
   "id": "6840a537",
   "metadata": {},
   "outputs": [
    {
     "name": "stdout",
     "output_type": "stream",
     "text": [
      "Data Import\n"
     ]
    }
   ],
   "source": [
    "print('Data Import')\n",
    "\n",
    "#data extract, basic information"
   ]
  },
  {
   "cell_type": "code",
   "execution_count": 2,
   "id": "a8ccc9e3",
   "metadata": {},
   "outputs": [],
   "source": [
    "import seaborn as sns"
   ]
  },
  {
   "cell_type": "code",
   "execution_count": null,
   "id": "51262121",
   "metadata": {},
   "outputs": [],
   "source": [
    "sns.__version__  #__version__"
   ]
  },
  {
   "cell_type": "code",
   "execution_count": null,
   "id": "4b5e1e88",
   "metadata": {},
   "outputs": [],
   "source": [
    "sns.get_dataset_names()"
   ]
  },
  {
   "cell_type": "code",
   "execution_count": null,
   "id": "0c90f658",
   "metadata": {},
   "outputs": [],
   "source": [
    "a = sns.load_dataset('penguins')\n",
    "a.head()"
   ]
  },
  {
   "cell_type": "code",
   "execution_count": null,
   "id": "d0307b45",
   "metadata": {},
   "outputs": [],
   "source": [
    "a.tail()"
   ]
  },
  {
   "cell_type": "code",
   "execution_count": null,
   "id": "be1dd79d",
   "metadata": {},
   "outputs": [],
   "source": [
    "a.shape()"
   ]
  },
  {
   "cell_type": "code",
   "execution_count": null,
   "id": "29f68a0e",
   "metadata": {},
   "outputs": [],
   "source": [
    "a.info()"
   ]
  },
  {
   "cell_type": "code",
   "execution_count": null,
   "id": "7213a594",
   "metadata": {},
   "outputs": [],
   "source": []
  }
 ],
 "metadata": {
  "kernelspec": {
   "display_name": "Python 3 (ipykernel)",
   "language": "python",
   "name": "python3"
  },
  "language_info": {
   "codemirror_mode": {
    "name": "ipython",
    "version": 3
   },
   "file_extension": ".py",
   "mimetype": "text/x-python",
   "name": "python",
   "nbconvert_exporter": "python",
   "pygments_lexer": "ipython3",
   "version": "3.8.5"
  }
 },
 "nbformat": 4,
 "nbformat_minor": 5
}
